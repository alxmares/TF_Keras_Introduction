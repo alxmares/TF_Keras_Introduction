{
 "cells": [
  {
   "cell_type": "markdown",
   "metadata": {},
   "source": [
    "# Pandas Tutorial: Basics\n",
    "\n",
    "Welcome to the basics Pandas tutorial. In this section, we will cover the fundamentals of Pandas, a powerful library for data analysis and manipulation in Python. We'll start with Series and DataFrames, the core data structures in Pandas, and explore how to manipulate them.\n"
   ]
  },
  {
   "cell_type": "code",
   "execution_count": 21,
   "metadata": {},
   "outputs": [],
   "source": [
    "# Importing Pandas\n",
    "import pandas as pd\n",
    "# Import numpy as complement\n",
    "import numpy as np\n"
   ]
  },
  {
   "cell_type": "markdown",
   "metadata": {},
   "source": [
    "## Creating Series\n",
    "\n",
    "A Series is a one-dimensional array-like object containing a sequence of values and an associated array of data labels, called its index.\n"
   ]
  },
  {
   "cell_type": "code",
   "execution_count": 22,
   "metadata": {},
   "outputs": [
    {
     "name": "stdout",
     "output_type": "stream",
     "text": [
      "0    1.0\n",
      "1    3.0\n",
      "2    5.0\n",
      "3    NaN\n",
      "4    6.0\n",
      "5    8.0\n",
      "dtype: float64\n"
     ]
    }
   ],
   "source": [
    "# Creating a Series\n",
    "s = pd.Series([1, 3, 5, np.nan, 6, 8])\n",
    "print(s)\n"
   ]
  },
  {
   "cell_type": "markdown",
   "metadata": {},
   "source": [
    "## Creating DataFrames\n",
    "\n",
    "A DataFrame is a two-dimensional, size-mutable, and potentially heterogeneous tabular data structure with labeled axes (rows and columns).\n"
   ]
  },
  {
   "cell_type": "code",
   "execution_count": 23,
   "metadata": {},
   "outputs": [
    {
     "name": "stdout",
     "output_type": "stream",
     "text": [
      "                   A         B         C         D\n",
      "2023-01-01 -0.841290  0.081727  0.470027  3.203913\n",
      "2023-01-02 -0.550541  1.016935 -0.443175 -0.858145\n",
      "2023-01-03  1.010446 -0.335146 -1.036723 -0.136153\n",
      "2023-01-04  1.413318 -0.131444 -0.196092  0.353596\n",
      "2023-01-05 -0.331854 -1.414046  1.002417  1.955026\n",
      "2023-01-06 -1.666298  1.272363 -0.961934 -0.022752\n"
     ]
    }
   ],
   "source": [
    "# Creating a DataFrame by passing a NumPy array\n",
    "dates = pd.date_range('20230101', periods=6)\n",
    "df = pd.DataFrame(np.random.randn(6, 4), index=dates, columns=list('ABCD'))\n",
    "print(df)\n"
   ]
  },
  {
   "cell_type": "markdown",
   "metadata": {},
   "source": [
    "## Viewing Data\n",
    "\n",
    "Let's take a look at the top and bottom rows of the frame.\n"
   ]
  },
  {
   "cell_type": "code",
   "execution_count": 24,
   "metadata": {},
   "outputs": [
    {
     "name": "stdout",
     "output_type": "stream",
     "text": [
      "                   A         B         C         D\n",
      "2023-01-01 -0.841290  0.081727  0.470027  3.203913\n",
      "2023-01-02 -0.550541  1.016935 -0.443175 -0.858145\n",
      "2023-01-03  1.010446 -0.335146 -1.036723 -0.136153\n",
      "2023-01-04  1.413318 -0.131444 -0.196092  0.353596\n",
      "2023-01-05 -0.331854 -1.414046  1.002417  1.955026\n",
      "                   A         B         C         D\n",
      "2023-01-04  1.413318 -0.131444 -0.196092  0.353596\n",
      "2023-01-05 -0.331854 -1.414046  1.002417  1.955026\n",
      "2023-01-06 -1.666298  1.272363 -0.961934 -0.022752\n"
     ]
    }
   ],
   "source": [
    "# Viewing the top rows of the DataFrame\n",
    "print(df.head())\n",
    "\n",
    "# Viewing the bottom rows of the DataFrame\n",
    "print(df.tail(3))\n"
   ]
  },
  {
   "cell_type": "markdown",
   "metadata": {},
   "source": [
    "## Basic Operations\n",
    "\n",
    "Pandas provides numerous operations for data manipulation, such as filtering, sorting, and grouping.\n"
   ]
  },
  {
   "cell_type": "code",
   "execution_count": 25,
   "metadata": {},
   "outputs": [
    {
     "name": "stdout",
     "output_type": "stream",
     "text": [
      "              A         B         C         D\n",
      "count  6.000000  6.000000  6.000000  6.000000\n",
      "mean  -0.161036  0.081732 -0.194247  0.749247\n",
      "std    1.162791  0.974555  0.804281  1.523119\n",
      "min   -1.666298 -1.414046 -1.036723 -0.858145\n",
      "25%   -0.768603 -0.284221 -0.832244 -0.107803\n",
      "50%   -0.441198 -0.024858 -0.319633  0.165422\n",
      "75%    0.674871  0.783133  0.303497  1.554668\n",
      "max    1.413318  1.272363  1.002417  3.203913\n",
      "                   D         C         B         A\n",
      "2023-01-01  3.203913  0.470027  0.081727 -0.841290\n",
      "2023-01-02 -0.858145 -0.443175  1.016935 -0.550541\n",
      "2023-01-03 -0.136153 -1.036723 -0.335146  1.010446\n",
      "2023-01-04  0.353596 -0.196092 -0.131444  1.413318\n",
      "2023-01-05  1.955026  1.002417 -1.414046 -0.331854\n",
      "2023-01-06 -0.022752 -0.961934  1.272363 -1.666298\n",
      "                   A         B         C         D\n",
      "2023-01-05 -0.331854 -1.414046  1.002417  1.955026\n",
      "2023-01-03  1.010446 -0.335146 -1.036723 -0.136153\n",
      "2023-01-04  1.413318 -0.131444 -0.196092  0.353596\n",
      "2023-01-01 -0.841290  0.081727  0.470027  3.203913\n",
      "2023-01-02 -0.550541  1.016935 -0.443175 -0.858145\n",
      "2023-01-06 -1.666298  1.272363 -0.961934 -0.022752\n"
     ]
    }
   ],
   "source": [
    "# Descriptive statistics\n",
    "print(df.describe())\n",
    "\n",
    "# Sorting by an axis\n",
    "print(df.sort_index(axis=1, ascending=False))\n",
    "\n",
    "# Sorting by values\n",
    "print(df.sort_values(by='B'))\n"
   ]
  },
  {
   "cell_type": "markdown",
   "metadata": {},
   "source": [
    "## Handling Missing Data\n",
    "\n",
    "Pandas provides various methods for cleaning and filling missing data.\n"
   ]
  },
  {
   "cell_type": "code",
   "execution_count": 26,
   "metadata": {},
   "outputs": [
    {
     "name": "stdout",
     "output_type": "stream",
     "text": [
      "                   A         B         C         D\n",
      "2023-01-01  5.000000  0.081727  0.470027  3.203913\n",
      "2023-01-02 -0.550541  1.016935 -0.443175 -0.858145\n",
      "2023-01-03  1.010446 -0.335146 -1.036723 -0.136153\n",
      "2023-01-04  1.413318 -0.131444 -0.196092  0.353596\n",
      "2023-01-05 -0.331854 -1.414046  1.002417  1.955026\n",
      "2023-01-06 -1.666298  1.272363 -0.961934 -0.022752\n",
      "                   A         B         C         D\n",
      "2023-01-02 -0.550541  1.016935 -0.443175 -0.858145\n",
      "2023-01-03  1.010446 -0.335146 -1.036723 -0.136153\n",
      "2023-01-04  1.413318 -0.131444 -0.196092  0.353596\n",
      "2023-01-05 -0.331854 -1.414046  1.002417  1.955026\n",
      "2023-01-06 -1.666298  1.272363 -0.961934 -0.022752\n"
     ]
    }
   ],
   "source": [
    "# Making a copy of the first DataFrame with missing values\n",
    "df_missing = df.copy()\n",
    "df_missing.at[dates[0], 'A'] = np.nan\n",
    "\n",
    "# Filling missing data\n",
    "print(df_missing.fillna(value=5))\n",
    "\n",
    "# Dropping any rows that have missing data\n",
    "print(df_missing.dropna(how='any'))\n"
   ]
  },
  {
   "cell_type": "markdown",
   "metadata": {},
   "source": [
    "## Merging\n",
    "\n",
    "Pandas provides multiple ways to combine DataFrames, including merging and concatenation.\n"
   ]
  },
  {
   "cell_type": "code",
   "execution_count": 27,
   "metadata": {},
   "outputs": [
    {
     "name": "stdout",
     "output_type": "stream",
     "text": [
      "          A         B         C         D\n",
      "0 -0.392429 -0.578467 -0.305895 -0.975671\n",
      "1  0.121913 -1.121945  1.831200  0.501353\n",
      "2 -2.199546 -0.697106  0.415638 -0.360534\n",
      "0 -1.286876 -0.544024 -0.894942 -0.027968\n",
      "1  1.675917  2.864225  1.151580 -1.287241\n"
     ]
    }
   ],
   "source": [
    "# Concatenating Pandas objects\n",
    "df1 = pd.DataFrame(np.random.randn(3, 4), columns=['A', 'B', 'C', 'D'])\n",
    "df2 = pd.DataFrame(np.random.randn(2, 4), columns=['A', 'B', 'C', 'D'])\n",
    "\n",
    "df_concatenated = pd.concat([df1, df2])\n",
    "print(df_concatenated)\n"
   ]
  },
  {
   "cell_type": "markdown",
   "metadata": {},
   "source": [
    "## Applying Functions\n",
    "\n",
    "Applying functions to the data is essential for data analysis.\n"
   ]
  },
  {
   "cell_type": "code",
   "execution_count": 28,
   "metadata": {},
   "outputs": [
    {
     "name": "stdout",
     "output_type": "stream",
     "text": [
      "                   A         B         C         D\n",
      "2023-01-01 -0.841290  0.081727  0.470027  3.203913\n",
      "2023-01-02 -1.391831  1.098663  0.026852  2.345768\n",
      "2023-01-03 -0.381385  0.763517 -1.009870  2.209615\n",
      "2023-01-04  1.031932  0.632073 -1.205962  2.563211\n",
      "2023-01-05  0.700079 -0.781974 -0.203545  4.518236\n",
      "2023-01-06 -0.966219  0.490389 -1.165480  4.495484\n",
      "A    3.079615\n",
      "B    2.686409\n",
      "C    2.039140\n",
      "D    4.062058\n",
      "dtype: float64\n"
     ]
    }
   ],
   "source": [
    "# Applying a function to each column\n",
    "print(df.apply(np.cumsum))\n",
    "\n",
    "# Applying a lambda function to each element\n",
    "print(df.apply(lambda x: x.max() - x.min()))\n"
   ]
  },
  {
   "cell_type": "markdown",
   "metadata": {},
   "source": [
    "This concludes our Pandas tutorials, where we explored from the basic to more advanced features of Pandas. With these techniques, you can perform sophisticated data analysis and manipulation tasks efficiently.\n"
   ]
  }
 ],
 "metadata": {
  "kernelspec": {
   "display_name": "Python 3",
   "language": "python",
   "name": "python3"
  },
  "language_info": {
   "codemirror_mode": {
    "name": "ipython",
    "version": 3
   },
   "file_extension": ".py",
   "mimetype": "text/x-python",
   "name": "python",
   "nbconvert_exporter": "python",
   "pygments_lexer": "ipython3",
   "version": "3.12.1"
  }
 },
 "nbformat": 4,
 "nbformat_minor": 2
}
