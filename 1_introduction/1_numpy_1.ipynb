{
 "cells": [
  {
   "cell_type": "markdown",
   "metadata": {},
   "source": [
    "# NumPy Tutorial: Basics\n",
    "\n",
    "Welcome to the Basics NumPy tutorial. In this section, we will cover the fundamentals of NumPy, including array creation, array attributes, and basic operations. Let's dive into the world of NumPy, a powerful library for numerical computing in Python.\n"
   ]
  },
  {
   "cell_type": "code",
   "execution_count": 12,
   "metadata": {},
   "outputs": [
    {
     "name": "stdout",
     "output_type": "stream",
     "text": [
      "1D Array:\n",
      " [1 2 3 4 5]\n"
     ]
    }
   ],
   "source": [
    "# Importing NumPy\n",
    "import numpy as np\n",
    "\n",
    "# Creating a simple NumPy array\n",
    "array_1d = np.array([1, 2, 3, 4, 5])\n",
    "print(\"1D Array:\\n\", array_1d)"
   ]
  },
  {
   "cell_type": "markdown",
   "metadata": {},
   "source": [
    "## Array Attributes\n",
    "\n",
    "NumPy arrays come with several attributes that describe their layout and properties. Let's explore some of these attributes.\n"
   ]
  },
  {
   "cell_type": "code",
   "execution_count": 13,
   "metadata": {},
   "outputs": [
    {
     "name": "stdout",
     "output_type": "stream",
     "text": [
      "Array Shape: (5,)\n",
      "Array Dimension: 1\n",
      "Array Data Type: int32\n",
      "Array Size: 5\n"
     ]
    }
   ],
   "source": [
    "# Exploring array attributes\n",
    "print(\"Array Shape:\", array_1d.shape)\n",
    "print(\"Array Dimension:\", array_1d.ndim)\n",
    "print(\"Array Data Type:\", array_1d.dtype)\n",
    "print(\"Array Size:\", array_1d.size)\n"
   ]
  },
  {
   "cell_type": "markdown",
   "metadata": {},
   "source": [
    "## Basic Operations\n",
    "\n",
    "NumPy provides a wide range of mathematical operations. These operations can be performed element-wise, making them very efficient and convenient.\n"
   ]
  },
  {
   "cell_type": "code",
   "execution_count": 14,
   "metadata": {},
   "outputs": [
    {
     "name": "stdout",
     "output_type": "stream",
     "text": [
      "Array + 2:\n",
      " [[3 4 5]\n",
      " [6 7 8]]\n",
      "Array * 3:\n",
      " [[ 3  6  9]\n",
      " [12 15 18]]\n"
     ]
    }
   ],
   "source": [
    "# Basic mathematical operations\n",
    "array_2d = np.array([[1, 2, 3], [4, 5, 6]])\n",
    "\n",
    "# Addition\n",
    "print(\"Array + 2:\\n\", array_2d + 2)\n",
    "\n",
    "# Multiplication\n",
    "print(\"Array * 3:\\n\", array_2d * 3)\n"
   ]
  },
  {
   "cell_type": "markdown",
   "metadata": {},
   "source": [
    "## Indexing and Slicing\n",
    "\n",
    "Accessing elements and subarrays is straightforward with NumPy, using indexing and slicing."
   ]
  },
  {
   "cell_type": "code",
   "execution_count": 15,
   "metadata": {},
   "outputs": [
    {
     "name": "stdout",
     "output_type": "stream",
     "text": [
      "First row: [1 2 3]\n",
      "Second element of first row: 2\n",
      "Last column:\n",
      " [3 6]\n"
     ]
    }
   ],
   "source": [
    "# Indexing and slicing\n",
    "print(\"First row:\", array_2d[0])\n",
    "print(\"Second element of first row:\", array_2d[0, 1])\n",
    "print(\"Last column:\\n\", array_2d[:, -1])"
   ]
  },
  {
   "cell_type": "markdown",
   "metadata": {},
   "source": [
    "## Broadcasting\n",
    "\n",
    "Broadcasting is a powerful mechanism that allows NumPy to work with arrays of different shapes when performing arithmetic operations.\n"
   ]
  },
  {
   "cell_type": "code",
   "execution_count": 16,
   "metadata": {},
   "outputs": [
    {
     "name": "stdout",
     "output_type": "stream",
     "text": [
      "Broadcast Result:\n",
      " [[ 1  2  3]\n",
      " [11 12 13]\n",
      " [21 22 23]\n",
      " [31 32 33]]\n"
     ]
    }
   ],
   "source": [
    "# Broadcasting example\n",
    "array_small = np.array([1, 2, 3])\n",
    "array_large = np.array([[0], [10], [20], [30]])\n",
    "\n",
    "# Broadcasting allows these arrays of different shapes to be added together\n",
    "broadcast_result = array_large + array_small\n",
    "print(\"Broadcast Result:\\n\", broadcast_result)\n"
   ]
  },
  {
   "cell_type": "markdown",
   "metadata": {},
   "source": [
    "## Advanced Indexing\n",
    "\n",
    "NumPy offers more sophisticated techniques for indexing, such as boolean indexing and fancy indexing, allowing for more complex data retrieval.\n"
   ]
  },
  {
   "cell_type": "code",
   "execution_count": 17,
   "metadata": {},
   "outputs": [
    {
     "name": "stdout",
     "output_type": "stream",
     "text": [
      "Positive elements: [1 3 2]\n",
      "Selected elements: [2 5 7]\n"
     ]
    }
   ],
   "source": [
    "# Boolean indexing\n",
    "array_data = np.array([1, -1, -2, 3, -3, 2])\n",
    "positive_data = array_data[array_data > 0]\n",
    "print(\"Positive elements:\", positive_data)\n",
    "\n",
    "# Fancy indexing\n",
    "array_fancy = np.arange(10)\n",
    "indices = [2, 5, 7]\n",
    "selected_elements = array_fancy[indices]\n",
    "print(\"Selected elements:\", selected_elements)"
   ]
  },
  {
   "cell_type": "markdown",
   "metadata": {},
   "source": [
    "## Manipulating Array Shapes\n",
    "\n",
    "Reshaping arrays is a common operation in NumPy, enabling the reorganization of data for various computational needs.\n"
   ]
  },
  {
   "cell_type": "code",
   "execution_count": 18,
   "metadata": {},
   "outputs": [
    {
     "name": "stdout",
     "output_type": "stream",
     "text": [
      "Original array: [0 1 2 3 4 5]\n",
      "Reshaped array:\n",
      " [[0 1 2]\n",
      " [3 4 5]]\n",
      "Transposed array:\n",
      " [[0 3]\n",
      " [1 4]\n",
      " [2 5]]\n"
     ]
    }
   ],
   "source": [
    "# Reshaping an array\n",
    "array_original = np.arange(6)\n",
    "array_reshaped = array_original.reshape((2, 3))\n",
    "print(\"Original array:\", array_original)\n",
    "print(\"Reshaped array:\\n\", array_reshaped)\n",
    "\n",
    "# Transposing an array\n",
    "array_transposed = array_reshaped.T\n",
    "print(\"Transposed array:\\n\", array_transposed)\n"
   ]
  },
  {
   "cell_type": "markdown",
   "metadata": {},
   "source": [
    "This concludes our NumPy tutorial, where we explored from the basic to more advanced features of NumPy. With these capabilities, you can tackle a wide range of mathematical and scientific computing tasks in Python.\n"
   ]
  }
 ],
 "metadata": {
  "kernelspec": {
   "display_name": "Python 3",
   "language": "python",
   "name": "python3"
  },
  "language_info": {
   "codemirror_mode": {
    "name": "ipython",
    "version": 3
   },
   "file_extension": ".py",
   "mimetype": "text/x-python",
   "name": "python",
   "nbconvert_exporter": "python",
   "pygments_lexer": "ipython3",
   "version": "3.12.1"
  }
 },
 "nbformat": 4,
 "nbformat_minor": 2
}
