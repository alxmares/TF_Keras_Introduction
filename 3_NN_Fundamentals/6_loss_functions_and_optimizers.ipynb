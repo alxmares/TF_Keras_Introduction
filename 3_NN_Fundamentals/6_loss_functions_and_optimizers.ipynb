{
 "cells": [
  {
   "cell_type": "markdown",
   "metadata": {},
   "source": [
    "# **Understanding Loss Functions and Optimizers in Keras**\n",
    "This Notebook provides an in-depth exploration of loss functions and optimizers in Keras, which are critical components in training deep learning models. We'll delve into different types of loss functions, when to use them, and various optimizers available in Keras, including how and why to choose specific ones for your projects."
   ]
  },
  {
   "cell_type": "markdown",
   "metadata": {},
   "source": [
    "## Introduction to Loss Functions\n",
    "Loss functions, also known as cost functions, measure how well the model's predictions match the target labels. During training, the model strives to minimize the loss function, adjusting its weights accordingly.\n",
    "\n",
    "### Common Loss Functions in Keras\n",
    "* **Mean Squared Error (MSE)**: Used for regression tasks.\n",
    "* **Binary Crossentropy**: Used for binary classification tasks.\n",
    "* **Categorical Crossentropy**: Used for multi-class classification tasks where each class is mutually exclusive.\n",
    "* **Sparse Categorical Crossentropy**: Similar to Categorical Crossentropy but for integer targets rather than one-hot encoded.\n",
    "\n",
    "### Choosing the Right Loss Function\n",
    "The choice of loss function depends on the specific type of machine learning task (e.g., classification, regression) and the data format."
   ]
  },
  {
   "cell_type": "markdown",
   "metadata": {},
   "source": [
    "## Introduction to Optimizers\n",
    "Optimizers are algorithms or methods used to change the attributes of the neural network, such as weights and learning rate, to reduce the losses. Optimizers help to minimize (or maximize) the loss function.\n",
    "\n",
    "### Common Optimizers in Keras\n",
    "* **SGD (Stochastic Gradient Descent)**: Implements the stochastic gradient descent optimization algorithm.\n",
    "* **Adam**: An optimizer that computes adaptive learning rates for each parameter.\n",
    "* **RMSprop**: Maintains a moving average of the square of gradients and divides the gradient by the root of this average.\n",
    "\n",
    "### Choosing the Right Optimizer\n",
    "The choice of optimizer can significantly affect the model's performance and training time. Adam is a good default to start with."
   ]
  },
  {
   "cell_type": "markdown",
   "metadata": {},
   "source": [
    "## Exploring Loss Functions and Optimizers in Keras\n",
    "Let's dive into some examples to see how to use these loss functions and optimizers in Keras.\n",
    "\n",
    "### Setting Up a Simple Model\n",
    "First, let's create a simple neural network model for demonstration purposes."
   ]
  },
  {
   "cell_type": "code",
   "execution_count": 5,
   "metadata": {},
   "outputs": [],
   "source": [
    "from tensorflow.keras.models import Sequential\n",
    "from tensorflow.keras.layers import Dense\n",
    "\n",
    "model = Sequential([\n",
    "    Dense(64, activation='relu', input_shape=(784,)),\n",
    "    Dense(64, activation='relu'),\n",
    "    Dense(10, activation='softmax')\n",
    "])\n"
   ]
  },
  {
   "cell_type": "markdown",
   "metadata": {},
   "source": [
    "### Configuring the Model with a Loss Function and Optimizer\n",
    "Now, we configure the model with a loss function and optimizer. We'll also specify metrics to monitor during training."
   ]
  },
  {
   "cell_type": "code",
   "execution_count": 6,
   "metadata": {},
   "outputs": [],
   "source": [
    "model.compile(\n",
    "    optimizer='adam',\n",
    "    loss='sparse_categorical_crossentropy',\n",
    "    metrics=['accuracy']\n",
    ")"
   ]
  },
  {
   "cell_type": "markdown",
   "metadata": {},
   "source": [
    "### Regression Example with MSE and SGD\n",
    "For a regression model, you might use MSE as the loss function and SGD as the optimizer."
   ]
  },
  {
   "cell_type": "code",
   "execution_count": 7,
   "metadata": {},
   "outputs": [],
   "source": [
    "model.compile(\n",
    "    optimizer='sgd',\n",
    "    loss='mean_squared_error'\n",
    ")"
   ]
  },
  {
   "cell_type": "markdown",
   "metadata": {},
   "source": [
    "### Binary Classification Example with Binary Crossentropy\n",
    "For a binary classification model, Binary Crossentropy is an appropriate loss function."
   ]
  },
  {
   "cell_type": "code",
   "execution_count": 8,
   "metadata": {},
   "outputs": [],
   "source": [
    "model.compile(\n",
    "    optimizer='adam',\n",
    "    loss='binary_crossentropy',\n",
    "    metrics=['accuracy']\n",
    ")"
   ]
  },
  {
   "cell_type": "markdown",
   "metadata": {},
   "source": [
    "## Comparing Model Performances with Different Loss Functions and Optimizers\n",
    "\n",
    "This example demonstrates the impact of different loss functions and optimizers on model accuracy using the Fashion MNIST dataset.\n"
   ]
  },
  {
   "cell_type": "code",
   "execution_count": 9,
   "metadata": {},
   "outputs": [],
   "source": [
    "import tensorflow as tf\n",
    "from tensorflow.keras.datasets import fashion_mnist\n",
    "from tensorflow.keras.models import Sequential\n",
    "from tensorflow.keras.layers import Flatten, Dense\n",
    "from tensorflow.keras.utils import to_categorical\n"
   ]
  },
  {
   "cell_type": "code",
   "execution_count": 10,
   "metadata": {},
   "outputs": [
    {
     "name": "stdout",
     "output_type": "stream",
     "text": [
      "Downloading data from https://storage.googleapis.com/tensorflow/tf-keras-datasets/train-labels-idx1-ubyte.gz\n",
      "\u001b[1m29515/29515\u001b[0m \u001b[32m━━━━━━━━━━━━━━━━━━━━\u001b[0m\u001b[37m\u001b[0m \u001b[1m0s\u001b[0m 3us/step\n",
      "Downloading data from https://storage.googleapis.com/tensorflow/tf-keras-datasets/train-images-idx3-ubyte.gz\n",
      "\u001b[1m26421880/26421880\u001b[0m \u001b[32m━━━━━━━━━━━━━━━━━━━━\u001b[0m\u001b[37m\u001b[0m \u001b[1m7s\u001b[0m 0us/step\n",
      "Downloading data from https://storage.googleapis.com/tensorflow/tf-keras-datasets/t10k-labels-idx1-ubyte.gz\n",
      "\u001b[1m5148/5148\u001b[0m \u001b[32m━━━━━━━━━━━━━━━━━━━━\u001b[0m\u001b[37m\u001b[0m \u001b[1m0s\u001b[0m 0s/step\n",
      "Downloading data from https://storage.googleapis.com/tensorflow/tf-keras-datasets/t10k-images-idx3-ubyte.gz\n",
      "\u001b[1m4422102/4422102\u001b[0m \u001b[32m━━━━━━━━━━━━━━━━━━━━\u001b[0m\u001b[37m\u001b[0m \u001b[1m1s\u001b[0m 0us/step\n"
     ]
    }
   ],
   "source": [
    "# Load the Fashion MNIST dataset\n",
    "(train_images, train_labels), (test_images, test_labels) = fashion_mnist.load_data()\n",
    "\n",
    "# Normalize the images\n",
    "train_images = train_images / 255.0\n",
    "test_images = test_images / 255.0\n",
    "\n",
    "# One-hot encode the labels\n",
    "train_labels = to_categorical(train_labels)\n",
    "test_labels = to_categorical(test_labels)\n"
   ]
  },
  {
   "cell_type": "markdown",
   "metadata": {},
   "source": [
    "### Building and Training the First Model\n",
    "\n",
    "We'll start with a model using Categorical Crossentropy as the loss function and the SGD optimizer.\n"
   ]
  },
  {
   "cell_type": "code",
   "execution_count": 11,
   "metadata": {},
   "outputs": [
    {
     "name": "stderr",
     "output_type": "stream",
     "text": [
      "c:\\Users\\AlxMa\\AppData\\Local\\Programs\\Python\\Python311\\Lib\\site-packages\\keras\\src\\layers\\reshaping\\flatten.py:37: UserWarning: Do not pass an `input_shape`/`input_dim` argument to a layer. When using Sequential models, prefer using an `Input(shape)` object as the first layer in the model instead.\n",
      "  super().__init__(**kwargs)\n"
     ]
    },
    {
     "name": "stdout",
     "output_type": "stream",
     "text": [
      "Epoch 1/10\n",
      "\u001b[1m1500/1500\u001b[0m \u001b[32m━━━━━━━━━━━━━━━━━━━━\u001b[0m\u001b[37m\u001b[0m \u001b[1m3s\u001b[0m 2ms/step - accuracy: 0.6596 - loss: 1.0754 - val_accuracy: 0.8010 - val_loss: 0.5829\n",
      "Epoch 2/10\n",
      "\u001b[1m1500/1500\u001b[0m \u001b[32m━━━━━━━━━━━━━━━━━━━━\u001b[0m\u001b[37m\u001b[0m \u001b[1m3s\u001b[0m 2ms/step - accuracy: 0.8101 - loss: 0.5622 - val_accuracy: 0.8231 - val_loss: 0.5124\n",
      "Epoch 3/10\n",
      "\u001b[1m1500/1500\u001b[0m \u001b[32m━━━━━━━━━━━━━━━━━━━━\u001b[0m\u001b[37m\u001b[0m \u001b[1m3s\u001b[0m 2ms/step - accuracy: 0.8275 - loss: 0.5001 - val_accuracy: 0.8300 - val_loss: 0.4782\n",
      "Epoch 4/10\n",
      "\u001b[1m1500/1500\u001b[0m \u001b[32m━━━━━━━━━━━━━━━━━━━━\u001b[0m\u001b[37m\u001b[0m \u001b[1m3s\u001b[0m 2ms/step - accuracy: 0.8403 - loss: 0.4586 - val_accuracy: 0.8399 - val_loss: 0.4546\n",
      "Epoch 5/10\n",
      "\u001b[1m1500/1500\u001b[0m \u001b[32m━━━━━━━━━━━━━━━━━━━━\u001b[0m\u001b[37m\u001b[0m \u001b[1m3s\u001b[0m 2ms/step - accuracy: 0.8460 - loss: 0.4500 - val_accuracy: 0.8432 - val_loss: 0.4547\n",
      "Epoch 6/10\n",
      "\u001b[1m1500/1500\u001b[0m \u001b[32m━━━━━━━━━━━━━━━━━━━━\u001b[0m\u001b[37m\u001b[0m \u001b[1m3s\u001b[0m 2ms/step - accuracy: 0.8493 - loss: 0.4296 - val_accuracy: 0.8500 - val_loss: 0.4290\n",
      "Epoch 7/10\n",
      "\u001b[1m1500/1500\u001b[0m \u001b[32m━━━━━━━━━━━━━━━━━━━━\u001b[0m\u001b[37m\u001b[0m \u001b[1m3s\u001b[0m 2ms/step - accuracy: 0.8579 - loss: 0.4146 - val_accuracy: 0.8495 - val_loss: 0.4229\n",
      "Epoch 8/10\n",
      "\u001b[1m1500/1500\u001b[0m \u001b[32m━━━━━━━━━━━━━━━━━━━━\u001b[0m\u001b[37m\u001b[0m \u001b[1m3s\u001b[0m 2ms/step - accuracy: 0.8577 - loss: 0.4050 - val_accuracy: 0.8580 - val_loss: 0.4125\n",
      "Epoch 9/10\n",
      "\u001b[1m1500/1500\u001b[0m \u001b[32m━━━━━━━━━━━━━━━━━━━━\u001b[0m\u001b[37m\u001b[0m \u001b[1m3s\u001b[0m 2ms/step - accuracy: 0.8600 - loss: 0.3963 - val_accuracy: 0.8592 - val_loss: 0.4065\n",
      "Epoch 10/10\n",
      "\u001b[1m1500/1500\u001b[0m \u001b[32m━━━━━━━━━━━━━━━━━━━━\u001b[0m\u001b[37m\u001b[0m \u001b[1m3s\u001b[0m 2ms/step - accuracy: 0.8661 - loss: 0.3855 - val_accuracy: 0.8607 - val_loss: 0.3971\n"
     ]
    }
   ],
   "source": [
    "# Define the model architecture\n",
    "model_1 = Sequential([\n",
    "    Flatten(input_shape=(28, 28)),\n",
    "    Dense(128, activation='relu'),\n",
    "    Dense(10, activation='softmax')\n",
    "])\n",
    "\n",
    "# Compile the model\n",
    "model_1.compile(optimizer='sgd',\n",
    "                loss='categorical_crossentropy',\n",
    "                metrics=['accuracy'])\n",
    "\n",
    "# Train the model\n",
    "history_1 = model_1.fit(train_images, train_labels, epochs=10, validation_split=0.2)\n"
   ]
  },
  {
   "cell_type": "markdown",
   "metadata": {},
   "source": [
    "### Building and Training the Second Model\n",
    "\n",
    "Next, we'll use the same loss function but switch to the Adam optimizer, which adjusts the learning rate dynamically.\n"
   ]
  },
  {
   "cell_type": "code",
   "execution_count": 12,
   "metadata": {},
   "outputs": [
    {
     "name": "stdout",
     "output_type": "stream",
     "text": [
      "Epoch 1/10\n",
      "\u001b[1m1500/1500\u001b[0m \u001b[32m━━━━━━━━━━━━━━━━━━━━\u001b[0m\u001b[37m\u001b[0m \u001b[1m5s\u001b[0m 3ms/step - accuracy: 0.7712 - loss: 0.6514 - val_accuracy: 0.8561 - val_loss: 0.4095\n",
      "Epoch 2/10\n",
      "\u001b[1m1500/1500\u001b[0m \u001b[32m━━━━━━━━━━━━━━━━━━━━\u001b[0m\u001b[37m\u001b[0m \u001b[1m4s\u001b[0m 3ms/step - accuracy: 0.8583 - loss: 0.3928 - val_accuracy: 0.8656 - val_loss: 0.3686\n",
      "Epoch 3/10\n",
      "\u001b[1m1500/1500\u001b[0m \u001b[32m━━━━━━━━━━━━━━━━━━━━\u001b[0m\u001b[37m\u001b[0m \u001b[1m4s\u001b[0m 3ms/step - accuracy: 0.8743 - loss: 0.3469 - val_accuracy: 0.8497 - val_loss: 0.4307\n",
      "Epoch 4/10\n",
      "\u001b[1m1500/1500\u001b[0m \u001b[32m━━━━━━━━━━━━━━━━━━━━\u001b[0m\u001b[37m\u001b[0m \u001b[1m4s\u001b[0m 3ms/step - accuracy: 0.8807 - loss: 0.3251 - val_accuracy: 0.8761 - val_loss: 0.3347\n",
      "Epoch 5/10\n",
      "\u001b[1m1500/1500\u001b[0m \u001b[32m━━━━━━━━━━━━━━━━━━━━\u001b[0m\u001b[37m\u001b[0m \u001b[1m4s\u001b[0m 3ms/step - accuracy: 0.8896 - loss: 0.2992 - val_accuracy: 0.8799 - val_loss: 0.3397\n",
      "Epoch 6/10\n",
      "\u001b[1m1500/1500\u001b[0m \u001b[32m━━━━━━━━━━━━━━━━━━━━\u001b[0m\u001b[37m\u001b[0m \u001b[1m4s\u001b[0m 3ms/step - accuracy: 0.8955 - loss: 0.2852 - val_accuracy: 0.8803 - val_loss: 0.3366\n",
      "Epoch 7/10\n",
      "\u001b[1m1500/1500\u001b[0m \u001b[32m━━━━━━━━━━━━━━━━━━━━\u001b[0m\u001b[37m\u001b[0m \u001b[1m4s\u001b[0m 3ms/step - accuracy: 0.8976 - loss: 0.2724 - val_accuracy: 0.8750 - val_loss: 0.3486\n",
      "Epoch 8/10\n",
      "\u001b[1m1500/1500\u001b[0m \u001b[32m━━━━━━━━━━━━━━━━━━━━\u001b[0m\u001b[37m\u001b[0m \u001b[1m4s\u001b[0m 3ms/step - accuracy: 0.9036 - loss: 0.2603 - val_accuracy: 0.8838 - val_loss: 0.3325\n",
      "Epoch 9/10\n",
      "\u001b[1m1500/1500\u001b[0m \u001b[32m━━━━━━━━━━━━━━━━━━━━\u001b[0m\u001b[37m\u001b[0m \u001b[1m4s\u001b[0m 3ms/step - accuracy: 0.9073 - loss: 0.2436 - val_accuracy: 0.8857 - val_loss: 0.3216\n",
      "Epoch 10/10\n",
      "\u001b[1m1500/1500\u001b[0m \u001b[32m━━━━━━━━━━━━━━━━━━━━\u001b[0m\u001b[37m\u001b[0m \u001b[1m4s\u001b[0m 3ms/step - accuracy: 0.9090 - loss: 0.2394 - val_accuracy: 0.8867 - val_loss: 0.3273\n"
     ]
    }
   ],
   "source": [
    "# Define the model architecture\n",
    "model_2 = Sequential([\n",
    "    Flatten(input_shape=(28, 28)),\n",
    "    Dense(128, activation='relu'),\n",
    "    Dense(10, activation='softmax')\n",
    "])\n",
    "\n",
    "# Compile the model\n",
    "model_2.compile(optimizer='adam',\n",
    "                loss='categorical_crossentropy',\n",
    "                metrics=['accuracy'])\n",
    "\n",
    "# Train the model\n",
    "history_2 = model_2.fit(train_images, train_labels, epochs=10, validation_split=0.2)\n"
   ]
  },
  {
   "cell_type": "markdown",
   "metadata": {},
   "source": [
    "### Visualizing the Accuracy of Both Models\n",
    "\n",
    "After training both models, let's plot their validation accuracies to observe the differences.\n"
   ]
  },
  {
   "cell_type": "code",
   "execution_count": 13,
   "metadata": {},
   "outputs": [
    {
     "data": {
      "image/png": "[encoded data removed]",
      "text/plain": [
       "<Figure size 640x480 with 1 Axes>"
      ]
     },
     "metadata": {},
     "output_type": "display_data"
    }
   ],
   "source": [
    "import matplotlib.pyplot as plt\n",
    "\n",
    "plt.plot(history_1.history['val_accuracy'], label='Model 1 - SGD')\n",
    "plt.plot(history_2.history['val_accuracy'], label='Model 2 - Adam')\n",
    "plt.title('Model Comparison on Fashion MNIST')\n",
    "plt.xlabel('Epochs')\n",
    "plt.ylabel('Validation Accuracy')\n",
    "plt.legend()\n",
    "plt.show()"
   ]
  },
  {
   "cell_type": "markdown",
   "metadata": {},
   "source": [
    "Through this comparison, we observe how the choice of optimizer can significantly impact the model's learning and generalization capabilities, even when the loss function remains constant. Model 2, which uses the Adam optimizer, typically shows a faster improvement in accuracy due to its adaptive learning rate capabilities, illustrating the importance of selecting an appropriate optimizer for your model.\n"
   ]
  },
  {
   "cell_type": "markdown",
   "metadata": {},
   "source": [
    "| Loss Function                  | Keras Function Name              | Typical Use Case                                     |\n",
    "|--------------------------------|----------------------------------|------------------------------------------------------|\n",
    "| Mean Squared Error             | `mean_squared_error` or `mse`    | Regression tasks where the goal is to minimize the square of the difference between the targets and the predictions. |\n",
    "| Mean Absolute Error            | `mean_absolute_error` or `mae`   | Regression tasks, similar to MSE, but less sensitive to outliers since it focuses on the absolute difference. |\n",
    "| Binary Crossentropy            | `binary_crossentropy`            | Binary classification tasks. Useful when predicting the probability of two mutually exclusive outcomes. |\n",
    "| Categorical Crossentropy       | `categorical_crossentropy`       | Multi-class classification tasks where each sample belongs to one of C classes. Requires one-hot encoded labels. |\n",
    "| Sparse Categorical Crossentropy| `sparse_categorical_crossentropy`| Similar to Categorical Crossentropy but accepts integer targets, simplifying the handling of large categorical label sets. |\n",
    "| Kullback-Leibler Divergence    | `kullback_leibler_divergence` or `kld` | Measuring how one probability distribution diverges from a second, expected probability distribution. Useful in variational autoencoders and other generative models. |\n",
    "| Cosine Similarity              | `cosine_similarity`              | Evaluating the cosine of the angle between true and predicted values. Useful in recommendation systems and embeddings similarity. |\n"
   ]
  },
  {
   "cell_type": "markdown",
   "metadata": {},
   "source": [
    "| Optimizer        | Keras Function Name | Description                                                                                       | Typical Use Case                                           |\n",
    "|------------------|---------------------|---------------------------------------------------------------------------------------------------|------------------------------------------------------------|\n",
    "| SGD              | `SGD`               | Stochastic Gradient Descent optimizer. Can include momentum and nesterov acceleration.            | Simple problems, provides fine control over the learning process. |\n",
    "| Adam             | `Adam`              | Optimizer that computes adaptive learning rates for each parameter. Combines ideas from RMSProp and AdaGrad. | Most deep learning tasks. Robust and easy to use.          |\n",
    "| RMSprop          | `RMSprop`           | Maintains a moving average of the square of gradients, dividing the gradient by the root of this average. | Situations where the importance of parameters changes dynamically. |\n",
    "| Adagrad          | `Adagrad`           | Adapts the learning rate to the parameters, performing larger updates for infrequent and smaller updates for frequent parameters. | Sparse data (e.g., text and images with lots of zeros).    |\n",
    "| Adadelta         | `Adadelta`          | An extension of Adagrad that seeks to reduce its aggressive, monotonically decreasing learning rate. | Problems requiring robustness to noisy gradient information. |\n",
    "| Adamax           | `Adamax`            | A variant of Adam based on the infinity norm.                                                     | Situations where the infinity norm offers better behavior than the L2 norm used in Adam. |\n",
    "| Nadam            | `Nadam`             | Incorporates Nesterov momentum into Adam.                                                         | Deep learning tasks where Nesterov momentum offers advantages. |\n",
    "| FTRL             | `FTRL`              | Follow The Regularized Leader algorithm, particularly suited for large-scale linear models.       | Large-scale and sparse machine learning models, especially with categorical data. |\n"
   ]
  }
 ],
 "metadata": {
  "kernelspec": {
   "display_name": "Python 3",
   "language": "python",
   "name": "python3"
  },
  "language_info": {
   "codemirror_mode": {
    "name": "ipython",
    "version": 3
   },
   "file_extension": ".py",
   "mimetype": "text/x-python",
   "name": "python",
   "nbconvert_exporter": "python",
   "pygments_lexer": "ipython3",
   "version": "3.11.7"
  }
 },
 "nbformat": 4,
 "nbformat_minor": 2
}
