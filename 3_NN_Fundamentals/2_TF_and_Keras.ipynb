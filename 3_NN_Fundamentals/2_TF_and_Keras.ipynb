{
 "cells": [
  {
   "cell_type": "markdown",
   "metadata": {},
   "source": [
    "# Understanding TensorFlow and Keras\n",
    "This notebook explores TensorFlow and Keras, two of the most prominent libraries in the field of deep learning. We'll delve into what each library is, explore alternatives, and discuss why one might choose TensorFlow or Keras for their deep learning projects."
   ]
  },
  {
   "cell_type": "markdown",
   "metadata": {},
   "source": [
    "## **1. What is TensorFlow?**\n",
    "TensorFlow is an open-source library developed by the Google Brain team. It's designed for dataflow and differentiable programming across a range of tasks, making it suitable for deep learning, machine learning, and numerical computation projects."
   ]
  },
  {
   "cell_type": "code",
   "execution_count": 1,
   "metadata": {},
   "outputs": [
    {
     "name": "stdout",
     "output_type": "stream",
     "text": [
      "TensorFlow Version: 2.15.0\n"
     ]
    }
   ],
   "source": [
    "# Importing TensorFlow\n",
    "import tensorflow as tf\n",
    "\n",
    "# Checking TensorFlow version\n",
    "print(f\"TensorFlow Version: {tf.__version__}\")"
   ]
  },
  {
   "cell_type": "markdown",
   "metadata": {},
   "source": [
    "### **Alternatives to TensorFlow**\n",
    "* **PyTorch**: Developed by Facebook's AI Research lab, PyTorch offers dynamic computation graphs that allow changes during runtime.\n",
    "* **Theano**: An older library that TensorFlow and others were inspired by, now discontinued but still in use for educational purposes.\n",
    "Microsoft Cognitive Toolkit (CNTK): A deep learning library by Microsoft that emphasizes efficiency and scalability.\n",
    "\n",
    "### **Why TensorFlow?**\n",
    "* **Scalability**: TensorFlow can run on various devices, from mobile and edge devices to large-scale GPU clusters.\n",
    "* **Flexibility**: Offers both high-level APIs (like Keras) for simplicity and low-level APIs for granular control over models.\n",
    "* **Community and Support**: A vast community and comprehensive documentation make TensorFlow a go-to choice for many developers and researchers."
   ]
  },
  {
   "cell_type": "markdown",
   "metadata": {},
   "source": [
    "### **TensorFlow Functionalities Example**\n",
    "Let's start with a basic TensorFlow example demonstrating how to perform matrix multiplication, a fundamental operation often used in neural networks."
   ]
  },
  {
   "cell_type": "code",
   "execution_count": 2,
   "metadata": {},
   "outputs": [
    {
     "name": "stdout",
     "output_type": "stream",
     "text": [
      "Result of matrix multiplication:\n",
      "[[19 22]\n",
      " [43 50]]\n"
     ]
    }
   ],
   "source": [
    "import tensorflow as tf\n",
    "\n",
    "# Defining two constant matrices\n",
    "matrix_a = tf.constant([[1, 2], [3, 4]])\n",
    "matrix_b = tf.constant([[5, 6], [7, 8]])\n",
    "\n",
    "# Performing matrix multiplication\n",
    "product = tf.matmul(matrix_a, matrix_b)\n",
    "\n",
    "print(\"Result of matrix multiplication:\")\n",
    "print(product.numpy())"
   ]
  },
  {
   "cell_type": "markdown",
   "metadata": {},
   "source": [
    "## **2. What is Keras?**\n",
    "Keras is an open-source neural network library written in Python. It's designed to enable fast experimentation with deep neural networks and focuses on being user-friendly, modular, and extensible. Initially developed as an independent project, Keras is now integrated into TensorFlow as tf.keras."
   ]
  },
  {
   "cell_type": "code",
   "execution_count": 4,
   "metadata": {},
   "outputs": [
    {
     "name": "stdout",
     "output_type": "stream",
     "text": [
      "Keras Version: 3.0.4\n"
     ]
    }
   ],
   "source": [
    "# Importing Keras\n",
    "import keras\n",
    "\n",
    "# Checking Keras version\n",
    "print(f\"Keras Version: {keras.__version__}\")\n"
   ]
  },
  {
   "cell_type": "markdown",
   "metadata": {},
   "source": [
    "### **Alternatives to Keras**\n",
    "* **PyTorch Lightning**: An extension of PyTorch that provides a high-level interface for PyTorch, focusing on reproducibility and simplicity.\n",
    "* **FastAI**: Built on top of PyTorch, FastAI aims to make deep learning more accessible by providing high-level components for common tasks.\n",
    "* **MXNet Gluon**: Apache MXNet's Gluon API offers simplicity and flexibility, providing clear, concise code for new learners and researchers.\n",
    "### **Why Keras?**\n",
    "* **Ease of Use**: Keras provides simple APIs that make it accessible to beginners while still powerful enough for research.\n",
    "* **Integration with TensorFlow**: As part of TensorFlow, Keras offers seamless operation with TensorFlow's features and scalability.\n",
    "* **Rapid Prototyping**: Allows for easy and fast prototyping of deep learning models, with a focus on experimentation."
   ]
  },
  {
   "cell_type": "markdown",
   "metadata": {},
   "source": [
    "### **Keras Functionalities Example: Building a Simple Neural Network**\n",
    "With Keras, building and training neural networks is straightforward. Here's an example of creating a simple neural network for classifying the digits from the MNIST dataset."
   ]
  },
  {
   "cell_type": "code",
   "execution_count": 5,
   "metadata": {},
   "outputs": [
    {
     "name": "stdout",
     "output_type": "stream",
     "text": [
      "Epoch 1/5\n"
     ]
    },
    {
     "name": "stderr",
     "output_type": "stream",
     "text": [
      "c:\\Users\\AlxMa\\AppData\\Local\\Programs\\Python\\Python311\\Lib\\site-packages\\keras\\src\\layers\\reshaping\\flatten.py:37: UserWarning: Do not pass an `input_shape`/`input_dim` argument to a layer. When using Sequential models, prefer using an `Input(shape)` object as the first layer in the model instead.\n",
      "  super().__init__(**kwargs)\n"
     ]
    },
    {
     "name": "stdout",
     "output_type": "stream",
     "text": [
      "\u001b[1m469/469\u001b[0m \u001b[32m━━━━━━━━━━━━━━━━━━━━\u001b[0m\u001b[37m\u001b[0m \u001b[1m3s\u001b[0m 5ms/step - accuracy: 0.8735 - loss: 0.4363\n",
      "Epoch 2/5\n",
      "\u001b[1m469/469\u001b[0m \u001b[32m━━━━━━━━━━━━━━━━━━━━\u001b[0m\u001b[37m\u001b[0m \u001b[1m2s\u001b[0m 5ms/step - accuracy: 0.9664 - loss: 0.1153\n",
      "Epoch 3/5\n",
      "\u001b[1m469/469\u001b[0m \u001b[32m━━━━━━━━━━━━━━━━━━━━\u001b[0m\u001b[37m\u001b[0m \u001b[1m2s\u001b[0m 5ms/step - accuracy: 0.9780 - loss: 0.0741\n",
      "Epoch 4/5\n",
      "\u001b[1m469/469\u001b[0m \u001b[32m━━━━━━━━━━━━━━━━━━━━\u001b[0m\u001b[37m\u001b[0m \u001b[1m2s\u001b[0m 5ms/step - accuracy: 0.9851 - loss: 0.0512\n",
      "Epoch 5/5\n",
      "\u001b[1m469/469\u001b[0m \u001b[32m━━━━━━━━━━━━━━━━━━━━\u001b[0m\u001b[37m\u001b[0m \u001b[1m2s\u001b[0m 5ms/step - accuracy: 0.9892 - loss: 0.0376\n",
      "\u001b[1m313/313\u001b[0m \u001b[32m━━━━━━━━━━━━━━━━━━━━\u001b[0m\u001b[37m\u001b[0m \u001b[1m1s\u001b[0m 2ms/step - accuracy: 0.9746 - loss: 0.0817\n",
      "Test Accuracy: 0.9787\n"
     ]
    }
   ],
   "source": [
    "from keras.datasets import mnist\n",
    "from keras.models import Sequential\n",
    "from keras.layers import Dense, Flatten\n",
    "from keras.utils import to_categorical\n",
    "\n",
    "# Load data\n",
    "(train_images, train_labels), (test_images, test_labels) = mnist.load_data()\n",
    "\n",
    "# Preprocess data\n",
    "train_images = train_images.reshape((60000, 28 * 28)).astype('float32') / 255\n",
    "test_images = test_images.reshape((10000, 28 * 28)).astype('float32') / 255\n",
    "\n",
    "train_labels = to_categorical(train_labels)\n",
    "test_labels = to_categorical(test_labels)\n",
    "\n",
    "# Building the model\n",
    "model = Sequential([\n",
    "    Flatten(input_shape=(28 * 28,)),\n",
    "    Dense(512, activation='relu'),\n",
    "    Dense(10, activation='softmax')\n",
    "])\n",
    "\n",
    "# Compile the model\n",
    "model.compile(optimizer='rmsprop',\n",
    "              loss='categorical_crossentropy',\n",
    "              metrics=['accuracy'])\n",
    "\n",
    "# Train the model\n",
    "model.fit(train_images, train_labels, epochs=5, batch_size=128)\n",
    "\n",
    "# Evaluate the model\n",
    "test_loss, test_acc = model.evaluate(test_images, test_labels)\n",
    "print(f\"Test Accuracy: {test_acc:.4f}\")\n"
   ]
  },
  {
   "cell_type": "markdown",
   "metadata": {},
   "source": []
  }
 ],
 "metadata": {
  "kernelspec": {
   "display_name": "Python 3",
   "language": "python",
   "name": "python3"
  },
  "language_info": {
   "codemirror_mode": {
    "name": "ipython",
    "version": 3
   },
   "file_extension": ".py",
   "mimetype": "text/x-python",
   "name": "python",
   "nbconvert_exporter": "python",
   "pygments_lexer": "ipython3",
   "version": "3.11.7"
  }
 },
 "nbformat": 4,
 "nbformat_minor": 2
}
